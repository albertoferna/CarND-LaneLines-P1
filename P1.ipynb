{
 "cells": [
  {
   "cell_type": "markdown",
   "metadata": {},
   "source": [
    "# **Finding Lane Lines on the Road** \n",
    "***\n",
    "In this project, you will use the tools you learned about in the lesson to identify lane lines on the road.  You can develop your pipeline on a series of individual images, and later apply the result to a video stream (really just a series of images). Check out the video clip \"raw-lines-example.mp4\" (also contained in this repository) to see what the output should look like after using the helper functions below. \n",
    "\n",
    "Once you have a result that looks roughly like \"raw-lines-example.mp4\", you'll need to get creative and try to average and/or extrapolate the line segments you've detected to map out the full extent of the lane lines.  You can see an example of the result you're going for in the video \"P1_example.mp4\".  Ultimately, you would like to draw just one line for the left side of the lane, and one for the right.\n",
    "\n",
    "---\n",
    "Let's have a look at our first image called 'test_images/solidWhiteRight.jpg'.  Run the 2 cells below (hit Shift-Enter or the \"play\" button above) to display the image.\n",
    "\n",
    "**Note** If, at any point, you encounter frozen display windows or other confounding issues, you can always start again with a clean slate by going to the \"Kernel\" menu above and selecting \"Restart & Clear Output\".\n",
    "\n",
    "---"
   ]
  },
  {
   "cell_type": "markdown",
   "metadata": {},
   "source": [
    "**The tools you have are color selection, region of interest selection, grayscaling, Gaussian smoothing, Canny Edge Detection and Hough Tranform line detection.  You  are also free to explore and try other techniques that were not presented in the lesson.  Your goal is piece together a pipeline to detect the line segments in the image, then average/extrapolate them and draw them onto the image for display (as below).  Once you have a working pipeline, try it out on the video stream below.**\n",
    "\n",
    "---\n",
    "\n",
    "<figure>\n",
    " <img src=\"line-segments-example.jpg\" width=\"380\" alt=\"Combined Image\" />\n",
    " <figcaption>\n",
    " <p></p> \n",
    " <p style=\"text-align: center;\"> Your output should look something like this (above) after detecting line segments using the helper functions below </p> \n",
    " </figcaption>\n",
    "</figure>\n",
    " <p></p> \n",
    "<figure>\n",
    " <img src=\"laneLines_thirdPass.jpg\" width=\"380\" alt=\"Combined Image\" />\n",
    " <figcaption>\n",
    " <p></p> \n",
    " <p style=\"text-align: center;\"> Your goal is to connect/average/extrapolate line segments to get output like this</p> \n",
    " </figcaption>\n",
    "</figure>"
   ]
  },
  {
   "cell_type": "code",
   "execution_count": null,
   "metadata": {
    "collapsed": false
   },
   "outputs": [],
   "source": [
    "#importing some useful packages\n",
    "import matplotlib.pyplot as plt\n",
    "import matplotlib.image as mpimg\n",
    "import numpy as np\n",
    "import cv2\n",
    "%matplotlib inline\n",
    "# Import everything needed to edit/save/watch video clips\n",
    "from moviepy.editor import VideoFileClip\n",
    "from IPython.display import HTML"
   ]
  },
  {
   "cell_type": "code",
   "execution_count": null,
   "metadata": {
    "collapsed": false
   },
   "outputs": [],
   "source": [
    "#reading in an image\n",
    "image = mpimg.imread('test_images/solidWhiteRight.jpg')\n",
    "#printing out some stats and plotting\n",
    "print('This image is:', type(image), 'with dimesions:', image.shape)\n",
    "plt.imshow(image)  # if you wanted to show a single color channel image called 'gray', for example, call as plt.imshow(gray, cmap='gray')"
   ]
  },
  {
   "cell_type": "markdown",
   "metadata": {},
   "source": [
    "**Some OpenCV functions (beyond those introduced in the lesson) that might be useful for this project are:**\n",
    "\n",
    "`cv2.inRange()` for color selection  \n",
    "`cv2.fillPoly()` for regions selection  \n",
    "`cv2.line()` to draw lines on an image given endpoints  \n",
    "`cv2.addWeighted()` to coadd / overlay two images\n",
    "`cv2.cvtColor()` to grayscale or change color\n",
    "`cv2.imwrite()` to output images to file  \n",
    "`cv2.bitwise_and()` to apply a mask to an image\n",
    "\n",
    "**Check out the OpenCV documentation to learn about these and discover even more awesome functionality!**"
   ]
  },
  {
   "cell_type": "markdown",
   "metadata": {},
   "source": [
    "Below are some helper functions to help get you started. They should look familiar from the lesson!"
   ]
  },
  {
   "cell_type": "code",
   "execution_count": null,
   "metadata": {
    "collapsed": false
   },
   "outputs": [],
   "source": [
    "import math\n",
    "\n",
    "def grayscale(img):\n",
    "    \"\"\"Applies the Grayscale transform\n",
    "    This will return an image with only one color channel\n",
    "    but NOTE: to see the returned image as grayscale\n",
    "    (assuming your grayscaled image is called 'gray')\n",
    "    you should call plt.imshow(gray, cmap='gray')\"\"\"\n",
    "    return cv2.cvtColor(img, cv2.COLOR_RGB2GRAY)\n",
    "    # Or use BGR2GRAY if you read an image with cv2.imread()\n",
    "    # return cv2.cvtColor(img, cv2.COLOR_BGR2GRAY)\n",
    "    \n",
    "def canny(img, low_threshold, high_threshold):\n",
    "    \"\"\"Applies the Canny transform\"\"\"\n",
    "    return cv2.Canny(img, low_threshold, high_threshold)\n",
    "\n",
    "def gaussian_blur(img, kernel_size):\n",
    "    \"\"\"Applies a Gaussian Noise kernel\"\"\"\n",
    "    return cv2.GaussianBlur(img, (kernel_size, kernel_size), 0)\n",
    "\n",
    "def region_of_interest(img, vertices):\n",
    "    \"\"\"\n",
    "    Applies an image mask.\n",
    "    \n",
    "    Only keeps the region of the image defined by the polygon\n",
    "    formed from `vertices`. The rest of the image is set to black.\n",
    "    \"\"\"\n",
    "    #defining a blank mask to start with\n",
    "    mask = np.zeros_like(img)   \n",
    "    \n",
    "    #defining a 3 channel or 1 channel color to fill the mask with depending on the input image\n",
    "    if len(img.shape) > 2:\n",
    "        channel_count = img.shape[2]  # i.e. 3 or 4 depending on your image\n",
    "        ignore_mask_color = (255,) * channel_count\n",
    "    else:\n",
    "        ignore_mask_color = 255\n",
    "        \n",
    "    #filling pixels inside the polygon defined by \"vertices\" with the fill color    \n",
    "    cv2.fillPoly(mask, vertices, ignore_mask_color)\n",
    "    \n",
    "    #returning the image only where mask pixels are nonzero\n",
    "    masked_image = cv2.bitwise_and(img, mask)\n",
    "    return masked_image\n",
    "\n",
    "\n",
    "def draw_lines(img, lines, color=[255, 0, 0], thickness=2):\n",
    "    \"\"\"\n",
    "    NOTE: this is the function you might want to use as a starting point once you want to \n",
    "    average/extrapolate the line segments you detect to map out the full\n",
    "    extent of the lane (going from the result shown in raw-lines-example.mp4\n",
    "    to that shown in P1_example.mp4).  \n",
    "    \n",
    "    Think about things like separating line segments by their \n",
    "    slope ((y2-y1)/(x2-x1)) to decide which segments are part of the left\n",
    "    line vs. the right line.  Then, you can average the position of each of \n",
    "    the lines and extrapolate to the top and bottom of the lane.\n",
    "    \n",
    "    This function draws `lines` with `color` and `thickness`.    \n",
    "    Lines are drawn on the image inplace (mutates the image).\n",
    "    If you want to make the lines semi-transparent, think about combining\n",
    "    this function with the weighted_img() function below\n",
    "    \"\"\"\n",
    "    # Let's find lines defining present lane. For that, we extend all line to the bottom of the screen\n",
    "    # Let's convert all lines to their slope/intercept configuration (y = mx + b)\n",
    "    ms = []\n",
    "    bs = []\n",
    "    max_y = img.shape[0]\n",
    "    bottom_intrp = []\n",
    "    try:        \n",
    "        for line in lines:\n",
    "            x1, y1, x2, y2 = line[0]\n",
    "            m = (y2 - y1) / (x2 - x1)\n",
    "            # only append those lines that are not too vertical or too horizontal\n",
    "            if (abs(m) < 5) and (abs(m) > 0.2):\n",
    "                ms.append(m)\n",
    "                b = -x1 * m + y1\n",
    "                bs.append(b)\n",
    "                bottom_intrp.append((max_y - b) / m)\n",
    "            else:\n",
    "                continue\n",
    "            #cv2.line(img, (x1, y1), (x2, y2), [0, 0, 255], thickness)\n",
    "        slopes = np.array(ms)\n",
    "        y_intercept = np.array(bs)\n",
    "        b_intercept = np.array(bottom_intrp)\n",
    "        # Calculation of center of image to select most likely lines\n",
    "        # This seems ugly. It should be rewritten\n",
    "        dist_to_center = b_intercept - (img.shape[1] / 2)\n",
    "        # Selecting each side of lines\n",
    "        left_slopes = slopes[dist_to_center < 0]\n",
    "        rigth_slopes = slopes[dist_to_center > 0]\n",
    "        left_bs = y_intercept[dist_to_center < 0]\n",
    "        right_bs = y_intercept[dist_to_center > 0]\n",
    "        left_dist = dist_to_center[dist_to_center < 0]\n",
    "        right_dist = dist_to_center[dist_to_center > 0]\n",
    "        left_bottom = b_intercept[dist_to_center < 0]\n",
    "        right_bottom = b_intercept[dist_to_center > 0]\n",
    "        # Selecting only a few lines closest to the center\n",
    "        sel_lines = 2\n",
    "        selected_left = left_dist.argsort()[-sel_lines:]\n",
    "        selected_right = right_dist.argsort()[0:sel_lines]\n",
    "        # Uncomment next 2 lines to take all detected and filtered lines into account\n",
    "        #selected_left = left_dist.argsort()\n",
    "        #selected_right = right_dist.argsort()\n",
    "        # Combining the selected lines\n",
    "        left_slope = left_slopes[selected_left].mean()\n",
    "        rigth_slope = rigth_slopes[selected_right].mean()\n",
    "        left_intercept = left_bs[selected_left].mean()\n",
    "        right_intercept = right_bs[selected_right].mean()\n",
    "        x_left_bottom = left_bottom[selected_left].mean()\n",
    "        x_right_bottom = right_bottom[selected_right].mean()\n",
    "        # Find intersection point to use as final point in the line\n",
    "        x = -(left_intercept - right_intercept) / (left_slope - rigth_slope)\n",
    "        y = x * left_slope + left_intercept\n",
    "        global average\n",
    "        if sum(average) == 0:\n",
    "            x1_left = int(x_left_bottom)\n",
    "            x2_right = int(x_right_bottom)\n",
    "            x3 = int(x)\n",
    "            y3 = int(y)\n",
    "        else:\n",
    "            alpha = 0.05\n",
    "            x1_left = int(x_left_bottom * alpha + average[0] * (1 - alpha))\n",
    "            x2_right = int(x_right_bottom * alpha + average[1] * (1 - alpha))\n",
    "            x3 = int(x * alpha + average[2] * (1 - alpha))\n",
    "            y3 = int(y * alpha + average[3] * (1 - alpha))\n",
    "    except:\n",
    "        # Some error in line detection\n",
    "        x1_left, x2_right, x3, y3 = average\n",
    "    average = [x1_left, x2_right, x3, y3]\n",
    "    cv2.line(img, (x1_left, max_y), (x3, y3), color, thickness)\n",
    "    cv2.line(img, (x2_right, max_y), (x3, y3), color, thickness)\n",
    "\n",
    "def hough_lines(img, rho, theta, threshold, min_line_len, max_line_gap):\n",
    "    \"\"\" `img` should be the output of a Canny transform.\n",
    "    Returns an image with hough lines drawn.  \"\"\"\n",
    "    \n",
    "    lines = cv2.HoughLinesP(img, rho, theta, threshold, np.array([]), minLineLength=min_line_len, maxLineGap=max_line_gap)\n",
    "    line_img = np.zeros((img.shape[0], img.shape[1], 3), dtype=np.uint8)\n",
    "    draw_lines(line_img, lines)\n",
    "    return line_img\n",
    "\n",
    "# Python 3 has support for cool math symbols.\n",
    "\n",
    "def weighted_img(img, initial_img, α=0.8, β=1., λ=0.):\n",
    "    \"\"\"\n",
    "    `img` is the output of the hough_lines(), An image with lines drawn on it.\n",
    "    Should be a blank image (all black) with lines drawn on it.\n",
    "    \n",
    "    `initial_img` should be the image before any processing.\n",
    "    \n",
    "    The result image is computed as follows:\n",
    "    \n",
    "    initial_img * α + img * β + λ\n",
    "    NOTE: initial_img and img must be the same shape!\n",
    "    \"\"\"\n",
    "    return cv2.addWeighted(initial_img, α, img, β, λ)"
   ]
  },
  {
   "cell_type": "markdown",
   "metadata": {},
   "source": [
    "## Test on Images\n",
    "\n",
    "Now you should build your pipeline to work on the images in the directory \"test_images\"  \n",
    "**You should make sure your pipeline works well on these images before you try the videos.**"
   ]
  },
  {
   "cell_type": "code",
   "execution_count": null,
   "metadata": {
    "collapsed": false
   },
   "outputs": [],
   "source": [
    "import os\n",
    "os.listdir(\"test_images/\")"
   ]
  },
  {
   "cell_type": "markdown",
   "metadata": {},
   "source": [
    "run your solution on all test_images and make copies into the test_images directory)."
   ]
  },
  {
   "cell_type": "code",
   "execution_count": null,
   "metadata": {
    "collapsed": false,
    "scrolled": false
   },
   "outputs": [],
   "source": [
    "# TODO: Build your pipeline that will draw lane lines on the test_images\n",
    "# then save them to the test_images directory.\n",
    "\n",
    "images_list = os.listdir('test_images/')\n",
    "\n",
    "def proccess_im(image):\n",
    "    low_thres = 180\n",
    "    high_thres = 255\n",
    "\n",
    "    white_low = np.array([low_thres, low_thres, low_thres])\n",
    "    white_high = np.array([high_thres, high_thres, high_thres])\n",
    "    yellow_low = np.array([low_thres, low_thres, 0])\n",
    "    yellow_high = np.array([high_thres, high_thres, high_thres])\n",
    "\n",
    "    # Threshold the image to select white lanes\n",
    "    white = cv2.inRange(image, white_low, white_high)\n",
    "    # Threshold the image to select yellow lanes\n",
    "    yellow = cv2.inRange(image, yellow_low, yellow_high)\n",
    "    # Combine both masks\n",
    "    im = white + yellow\n",
    "    imshape = image.shape\n",
    "    ignore_mask_color = 0\n",
    "    vertices = np.array([[(0.45 * imshape[1], 0.55 * imshape[0]),\n",
    "                          (0.1 * imshape[1], 1.0 * imshape[0]), \n",
    "                          (0.9 * imshape[1], 1.0 * imshape[0]), \n",
    "                          (0.55 * imshape[1], 0.55 * imshape[0])]], dtype=np.int32)\n",
    "    masked_im = region_of_interest(im, vertices)\n",
    "    kernel_size = 3 # Must be an odd number (3, 5, 7...)\n",
    "    blur_im = cv2.GaussianBlur(masked_im,(kernel_size, kernel_size),0)\n",
    "    edges = canny(blur_im, 50, 150)\n",
    "    lines = cv2.HoughLinesP(edges, 1, 1/180 * np.pi, 10, np.array([]), 10, 50)\n",
    "    #draw line on top of image\n",
    "    draw_lines(image, lines)\n",
    "    return image\n",
    "\n",
    "for test_im in images_list:\n",
    "    average = [0, 0, 0, 0]\n",
    "    org_image = mpimg.imread('test_images/' + test_im)\n",
    "    mpimg.imsave('test_images/out_' + test_im, proccess_im(org_image))"
   ]
  },
  {
   "cell_type": "markdown",
   "metadata": {},
   "source": [
    "## Test on Videos\n",
    "\n",
    "You know what's cooler than drawing lanes over images? Drawing lanes over video!\n",
    "\n",
    "We can test our solution on two provided videos:\n",
    "\n",
    "`solidWhiteRight.mp4`\n",
    "\n",
    "`solidYellowLeft.mp4`"
   ]
  },
  {
   "cell_type": "code",
   "execution_count": null,
   "metadata": {
    "collapsed": true
   },
   "outputs": [],
   "source": [
    "# Import everything needed to edit/save/watch video clips\n",
    "from moviepy.editor import VideoFileClip\n",
    "from IPython.display import HTML"
   ]
  },
  {
   "cell_type": "code",
   "execution_count": null,
   "metadata": {
    "collapsed": true
   },
   "outputs": [],
   "source": [
    "def process_image(image):\n",
    "    # NOTE: The output you return should be a color image (3 channel) for processing video below\n",
    "    # TODO: put your pipeline here,\n",
    "    # you should return the final output (image with lines are drawn on lanes)\n",
    "    low_thres = 200\n",
    "    high_thres = 255\n",
    "\n",
    "    white_low = np.array([low_thres, low_thres, low_thres])\n",
    "    white_high = np.array([high_thres, high_thres, high_thres])\n",
    "    yellow_low = np.array([low_thres, low_thres, 0])\n",
    "    yellow_high = np.array([high_thres, high_thres, high_thres])\n",
    "\n",
    "    # Threshold the image to select white lanes\n",
    "    white = cv2.inRange(image, white_low, white_high)\n",
    "    # Threshold the image to select yellow lanes\n",
    "    yellow = cv2.inRange(image, yellow_low, yellow_high)\n",
    "    # Combine both masks\n",
    "    im = white + yellow\n",
    "    edges = canny(im, 50, 150)\n",
    "    imshape = image.shape\n",
    "    ignore_mask_color = 0  \n",
    "    vertices = np.array([[(0.45 * imshape[1], 0.6 * imshape[0]),\n",
    "                          (0.1 * imshape[1], 1.0 * imshape[0]), \n",
    "                          (0.9 * imshape[1], 1.0 * imshape[0]), \n",
    "                          (0.55 * imshape[1], 0.6 * imshape[0])]], dtype=np.int32)\n",
    "    masked_im = region_of_interest(im, vertices)\n",
    "    kernel_size = 3 # Must be an odd number (3, 5, 7...)\n",
    "    blur_im = cv2.GaussianBlur(masked_im,(kernel_size, kernel_size),0)\n",
    "    edges = canny(blur_im, 50, 150)\n",
    "    # submited values:\n",
    "    # lines = cv2.HoughLinesP(edges, 1, 1/180 * np.pi, 10, np.array([]), 10, 150)\n",
    "    # recomended values bellow\n",
    "    lines = cv2.HoughLinesP(edges, 1, 1/180 * np.pi, 30, np.array([]), 100, 160)\n",
    "\n",
    "    #draw line on top of image\n",
    "    draw_lines(image, lines)\n",
    "    result = image\n",
    "    \n",
    "    return result"
   ]
  },
  {
   "cell_type": "markdown",
   "metadata": {},
   "source": [
    "Let's try the one with the solid white lane on the right first ..."
   ]
  },
  {
   "cell_type": "code",
   "execution_count": null,
   "metadata": {
    "collapsed": false
   },
   "outputs": [],
   "source": [
    "average = [0, 0, 0, 0]\n",
    "white_output = 'white.mp4'\n",
    "clip1 = VideoFileClip(\"solidWhiteRight.mp4\")\n",
    "white_clip = clip1.fl_image(process_image) #NOTE: this function expects color images!!\n",
    "%time white_clip.write_videofile(white_output, audio=False)"
   ]
  },
  {
   "cell_type": "markdown",
   "metadata": {},
   "source": [
    "Play the video inline, or if you prefer find the video in your filesystem (should be in the same directory) and play it in your video player of choice."
   ]
  },
  {
   "cell_type": "code",
   "execution_count": null,
   "metadata": {
    "collapsed": false
   },
   "outputs": [],
   "source": [
    "HTML(\"\"\"\n",
    "<video width=\"960\" height=\"540\" controls>\n",
    "  <source src=\"{0}\">\n",
    "</video>\n",
    "\"\"\".format(white_output))"
   ]
  },
  {
   "cell_type": "markdown",
   "metadata": {},
   "source": [
    "**At this point, if you were successful you probably have the Hough line segments drawn onto the road, but what about identifying the full extent of the lane and marking it clearly as in the example video (P1_example.mp4)?  Think about defining a line to run the full length of the visible lane based on the line segments you identified with the Hough Transform.  Modify your draw_lines function accordingly and try re-running your pipeline.**"
   ]
  },
  {
   "cell_type": "markdown",
   "metadata": {},
   "source": [
    "Now for the one with the solid yellow lane on the left. This one's more tricky!"
   ]
  },
  {
   "cell_type": "code",
   "execution_count": null,
   "metadata": {
    "collapsed": false
   },
   "outputs": [],
   "source": [
    "average = [0, 0, 0, 0]\n",
    "yellow_output = 'yellow.mp4'\n",
    "clip2 = VideoFileClip('solidYellowLeft.mp4')\n",
    "yellow_clip = clip2.fl_image(process_image)\n",
    "%time yellow_clip.write_videofile(yellow_output, audio=False)"
   ]
  },
  {
   "cell_type": "code",
   "execution_count": null,
   "metadata": {
    "collapsed": false
   },
   "outputs": [],
   "source": [
    "HTML(\"\"\"\n",
    "<video width=\"960\" height=\"540\" controls>\n",
    "  <source src=\"{0}\">\n",
    "</video>\n",
    "\"\"\".format(yellow_output))"
   ]
  },
  {
   "cell_type": "markdown",
   "metadata": {},
   "source": [
    "## Reflections\n",
    "\n",
    "Congratulations on finding the lane lines!  As the final step in this project, we would like you to share your thoughts on your lane finding pipeline... specifically, how could you imagine making your algorithm better / more robust?  Where will your current algorithm be likely to fail?\n",
    "\n",
    "Please add your thoughts below,  and if you're up for making your pipeline more robust, be sure to scroll down and check out the optional challenge video below!\n"
   ]
  },
  {
   "cell_type": "markdown",
   "metadata": {},
   "source": [
    "One of the first ways I would try to make the algorithm more robust would be to make two passes. By looking at the video before we select which lines to use it seems to be detecting the lane better than it is captured by just two line. It seems an interesting root to create an image with thick line in a clearly identifiable color and do a new pass. This time, the distance between lines should be bigger as we would be trying to bridge the gap between them. Hopefully, by combining thick line with clearly identifiable color (bright orange for example) we would smooth out the lane without introducing noise or artifacts in its detection. It may be interesting to see if this can capture curved lanes without having to draw over them. This cost computation time so it may not be really worth it.\n",
    "As it stands right now, the algorithm filters lines close to vertical. This was introduced for robustness. However, that would keep it from detecting lanes during a lane change. This should be treated better.\n",
    "Opencv api is so extend that I'm positive this could be written in a more succinct way.  It is also it extension that makes it somehow hard to find that function that helps. I also found some of the documentation related to python lacking. There seems to be more documentation oriented towards c++. It makes sense since we are talking about a wrapper.\n",
    "Overall I enjoy the exercise. I’m not too happy with may code because it seem unorganized. I started experimenting right away and in the end I never got the time to organize small functions that would have help quite a bit. At that point I was focused on detecting the lanes as well as I could instead of organizing the code. "
   ]
  },
  {
   "cell_type": "markdown",
   "metadata": {},
   "source": [
    "## Submission\n",
    "\n",
    "If you're satisfied with your video outputs it's time to submit!  Submit this ipython notebook for review.\n"
   ]
  },
  {
   "cell_type": "markdown",
   "metadata": {
    "collapsed": true
   },
   "source": [
    "## Optional Challenge\n",
    "\n",
    "Try your lane finding pipeline on the video below.  Does it still work?  Can you figure out a way to make it more robust?  If you're up for the challenge, modify your pipeline so it works with this video and submit it along with the rest of your project!"
   ]
  },
  {
   "cell_type": "code",
   "execution_count": null,
   "metadata": {
    "collapsed": false
   },
   "outputs": [],
   "source": [
    "average = [0, 0, 0, 0]\n",
    "challenge_output = 'extra.mp4'\n",
    "clip2 = VideoFileClip('challenge.mp4')\n",
    "challenge_clip = clip2.fl_image(process_image)\n",
    "%time challenge_clip.write_videofile(challenge_output, audio=False)"
   ]
  },
  {
   "cell_type": "code",
   "execution_count": null,
   "metadata": {
    "collapsed": false
   },
   "outputs": [],
   "source": [
    "HTML(\"\"\"\n",
    "<video width=\"960\" height=\"540\" controls>\n",
    "  <source src=\"{0}\">\n",
    "</video>\n",
    "\"\"\".format(challenge_output))"
   ]
  },
  {
   "cell_type": "code",
   "execution_count": null,
   "metadata": {
    "collapsed": false
   },
   "outputs": [],
   "source": [
    ""
   ]
  }
 ],
 "metadata": {
  "anaconda-cloud": {},
  "kernelspec": {
   "display_name": "Python 3",
   "language": "python",
   "name": "python3"
  },
  "language_info": {
   "codemirror_mode": {
    "name": "ipython",
    "version": 3.0
   },
   "file_extension": ".py",
   "mimetype": "text/x-python",
   "name": "python",
   "nbconvert_exporter": "python",
   "pygments_lexer": "ipython3",
   "version": "3.5.2"
  },
  "widgets": {
   "state": {},
   "version": "1.1.2"
  }
 },
 "nbformat": 4,
 "nbformat_minor": 0
}